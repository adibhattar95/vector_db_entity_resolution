{
 "cells": [
  {
   "cell_type": "code",
   "execution_count": 1,
   "metadata": {},
   "outputs": [
    {
     "name": "stderr",
     "output_type": "stream",
     "text": [
      "/Users/adibhattar/Desktop/vector_db_entity_resolution/.venv/lib/python3.11/site-packages/tqdm/auto.py:21: TqdmWarning: IProgress not found. Please update jupyter and ipywidgets. See https://ipywidgets.readthedocs.io/en/stable/user_install.html\n",
      "  from .autonotebook import tqdm as notebook_tqdm\n"
     ]
    }
   ],
   "source": [
    "#import libraries\n",
    "from entity_resolution import EntityResolution\n",
    "import pandas as pd\n",
    "import warnings\n",
    "from qdrant_client import models, QdrantClient\n",
    "from sentence_transformers import SentenceTransformer\n",
    "from tabulate import tabulate\n",
    "import time\n",
    "import random\n",
    "warnings.filterwarnings('ignore')"
   ]
  },
  {
   "cell_type": "code",
   "execution_count": 2,
   "metadata": {},
   "outputs": [],
   "source": [
    "#Create qdrant client and load encoder\n",
    "client = QdrantClient(host = 'localhost', port = 6333)\n",
    "encoder = SentenceTransformer('all-MiniLM-L6-v2')\n",
    "entity_df = pd.read_csv('datasets/entity_pairs.csv')\n",
    "matcher = EntityResolution(client=client, encoder=encoder, entity_df=entity_df)"
   ]
  },
  {
   "cell_type": "code",
   "execution_count": 5,
   "metadata": {},
   "outputs": [
    {
     "name": "stdout",
     "output_type": "stream",
     "text": [
      "╒════╤══════════════════════════════════════╤══════════════════════════════════════════════════════════════════════════════════════════════════╤══════════╕\n",
      "│    │ entity_id                            │ combined_attribute                                                                               │    score │\n",
      "╞════╪══════════════════════════════════════╪══════════════════════════════════════════════════════════════════════════════════════════════════╪══════════╡\n",
      "│  0 │ a6f153b0-664d-4c23-b85f-334c7e3dfa50 │ Mr. John J Byrd 876 Jones Extension Rochester NY USAdavid.spence@yahoo.com(559)692-7543          │ 1        │\n",
      "│  1 │ c49532fd-0e8d-4768-81e8-387f5452cd49 │ Mr. John J Byrd 876 Jones Extension Rochester NY USAdavid.spence@yahoo.com(559)692-7543          │ 1        │\n",
      "│  2 │ e9006dac-9b2b-428c-90a7-4af94bf9beb8 │ Mr. John J Byrd 876 Jones Extension Rochester NY USAdavid.spence@yahoo.com(559)692-7543          │ 1        │\n",
      "│  3 │ b33f7858-fe39-4a9e-8927-f639f60ca200 │ Mr. John J Byrd II876 Jones Extension Rochester NY USAdavid.spence@yahoo.com(559)692-7543        │ 0.976688 │\n",
      "│  4 │ b2341a1c-e0dc-4070-9c1d-84285bf7298a │ Mr. Eric L Byrd 588 Jones Extension Rochester NY USAeric.byrd@gmail.com1259)609-7543             │ 0.946908 │\n",
      "│  5 │ 8dc0b19a-35fb-416b-b46d-5be3b2f5ffeb │ Dr. J Jtuy Byrd Jr876 Jones Extension Rochester  john.byrd@stewart.com(559)692-7543              │ 0.83771  │\n",
      "│  6 │ a63aa5cc-5d81-49cf-a8bc-9c4f9899c9cb │ Robert J Byrd Jr2741 Marvin Drives Apt. 083 Rochester NY USAbrandon.davis@yahoo.com(673)483-8762 │ 0.742304 │\n",
      "│  7 │ 97444e26-4eee-4f1a-8d78-f19a1778c127 │ Robert J Byrd Jr2741 Marvin Drives Apt. 083 Rochester NY USAbrandon.davis@yahoo.com(673)483-8762 │ 0.742304 │\n",
      "│  8 │ ccb541cd-bc90-429b-bd06-2091de16754e │ Robert J Byrd Jr2741 Marvin Drives Apt. 083 Rochester NY USAbrandon.davis@yahoo.com(673)483-8762 │ 0.742304 │\n",
      "╘════╧══════════════════════════════════════╧══════════════════════════════════════════════════════════════════════════════════════════════════╧══════════╛\n"
     ]
    }
   ],
   "source": [
    "#Get the matches from vector store\n",
    "entity_id = random.choice(entity_df['ID'].tolist())\n",
    "veer_matches = matcher.compare_matches(entity_id)\n",
    "print(tabulate(veer_matches, headers='keys', tablefmt='fancy_outline'))"
   ]
  },
  {
   "cell_type": "code",
   "execution_count": null,
   "metadata": {},
   "outputs": [],
   "source": []
  }
 ],
 "metadata": {
  "kernelspec": {
   "display_name": ".venv",
   "language": "python",
   "name": "python3"
  },
  "language_info": {
   "codemirror_mode": {
    "name": "ipython",
    "version": 3
   },
   "file_extension": ".py",
   "mimetype": "text/x-python",
   "name": "python",
   "nbconvert_exporter": "python",
   "pygments_lexer": "ipython3",
   "version": "3.11.3"
  }
 },
 "nbformat": 4,
 "nbformat_minor": 2
}
