{
 "cells": [
  {
   "cell_type": "code",
   "execution_count": 1,
   "metadata": {},
   "outputs": [],
   "source": [
    "#Import libraries\n",
    "import pandas as pd\n",
    "import warnings\n",
    "from faker import Faker\n",
    "import random\n",
    "from synthetic import SyntheticHelper\n",
    "from match_type import MatchType\n",
    "from defines import *\n",
    "warnings.filterwarnings('ignore')"
   ]
  },
  {
   "cell_type": "code",
   "execution_count": 2,
   "metadata": {},
   "outputs": [],
   "source": [
    "#Create a Faker Instance\n",
    "helper = SyntheticHelper()\n",
    "fake = Faker()"
   ]
  },
  {
   "cell_type": "code",
   "execution_count": 3,
   "metadata": {},
   "outputs": [],
   "source": [
    "#Data required for ER Dataset\n",
    "#Generate 50 random examples of names for both male and female\n",
    "female_names = [{'FirstName': fake.first_name_female(), 'SuffixName': '', 'Gender': random.choice(GENDER_FEMALE), 'LastName': fake.last_name(),\n",
    "                 'Prefix': random.choice(PREFIX_FEMALE), 'MiddleName': random.choice(MIDDLE_NAME)} for _ in range(10000)]\n",
    "female_names_values = [x['FirstName']+x['LastName'] for x in female_names]\n",
    "male_names = [{'FirstName': fake.first_name_male(), 'SuffixName': random.choice(MALE_SUFFIXES), 'Gender': random.choice(GENDER_MALE),\n",
    "                'LastName': fake.last_name(), 'Prefix': random.choice(PREFIX_MALE), 'MiddleName': random.choice(MIDDLE_NAME)} for _ in range(10000)]\n",
    "male_names_values = [x['FirstName']+x['LastName'] for x in male_names]\n",
    "\n",
    "all_names = female_names + male_names\n",
    "all_names_values = female_names_values + male_names_values\n",
    "\n",
    "new_names = []\n",
    "indexes_to_remove = []\n",
    "for i in range(len(all_names_values)):\n",
    "    if all_names_values[i] in new_names:\n",
    "        indexes_to_remove.append(i)\n",
    "    else:\n",
    "        new_names.append(all_names_values[i])\n",
    "\n",
    "all_names_filter = []\n",
    "for i in range(len(all_names)):\n",
    "    if i not in indexes_to_remove:\n",
    "        all_names_filter.append(all_names[i])\n",
    "female_name_list = [name['FirstName'] for name in female_names]\n",
    "male_name_list = [name['FirstName'] for name in male_names]\n",
    "\n",
    "#Generate 50 random examples of address for both male and female\n",
    "addresses = [helper.generate_address(CITIES) for _ in range(len(all_names_filter))]\n",
    "\n",
    "#Generate 50 random examples of numbers for both male and female\n",
    "numbers = [{'Number': fake.phone_number(), 'Type':\"\"} for _ in range(len(all_names_filter))]\n",
    "\n",
    "#Generate 50 random examples of email addresses for both male and female\n",
    "all_emails = [{'Email': helper.generate_email(all_names[i]['FirstName'], all_names[i]['LastName']), 'Type':\"\"} for i in range(len(all_names_filter))]\n",
    "\n",
    "#Create list of master_profiles\n",
    "master_profiles = [all_names_filter, addresses, numbers, all_emails]"
   ]
  },
  {
   "cell_type": "code",
   "execution_count": 4,
   "metadata": {},
   "outputs": [],
   "source": [
    "#Initiate a match type creator\n",
    "match_creator = MatchType(master_profiles, female_name_list, male_name_list, PREFIX_FEMALE, PREFIX_MALE, MALE_SUFFIXES, MIDDLE_NAME, CITIES)"
   ]
  },
  {
   "cell_type": "code",
   "execution_count": 5,
   "metadata": {},
   "outputs": [
    {
     "name": "stderr",
     "output_type": "stream",
     "text": [
      "100%|██████████| 17712/17712 [00:01<00:00, 15312.90it/s]\n"
     ]
    },
    {
     "name": "stdout",
     "output_type": "stream",
     "text": [
      "Easy Name matches created\n"
     ]
    },
    {
     "name": "stderr",
     "output_type": "stream",
     "text": [
      "100%|██████████| 17712/17712 [00:00<00:00, 1050473.88it/s]\n"
     ]
    },
    {
     "name": "stdout",
     "output_type": "stream",
     "text": [
      "Easy address matches created\n"
     ]
    },
    {
     "name": "stderr",
     "output_type": "stream",
     "text": [
      "100%|██████████| 17712/17712 [00:00<00:00, 2553606.23it/s]\n"
     ]
    },
    {
     "name": "stdout",
     "output_type": "stream",
     "text": [
      "Easy phone matches created\n"
     ]
    },
    {
     "name": "stderr",
     "output_type": "stream",
     "text": [
      "100%|██████████| 17712/17712 [00:00<00:00, 2600991.26it/s]\n"
     ]
    },
    {
     "name": "stdout",
     "output_type": "stream",
     "text": [
      "Easy email matches created\n"
     ]
    },
    {
     "name": "stderr",
     "output_type": "stream",
     "text": [
      "100%|██████████| 17712/17712 [00:01<00:00, 15139.11it/s]\n"
     ]
    },
    {
     "name": "stdout",
     "output_type": "stream",
     "text": [
      "Difficult name matches created\n"
     ]
    },
    {
     "name": "stderr",
     "output_type": "stream",
     "text": [
      "100%|██████████| 17712/17712 [00:00<00:00, 221521.69it/s]\n"
     ]
    },
    {
     "name": "stdout",
     "output_type": "stream",
     "text": [
      "Difficult address matches created\n"
     ]
    },
    {
     "name": "stderr",
     "output_type": "stream",
     "text": [
      "100%|██████████| 17712/17712 [00:00<00:00, 2103088.90it/s]\n"
     ]
    },
    {
     "name": "stdout",
     "output_type": "stream",
     "text": [
      "Difficult phone matches created\n"
     ]
    },
    {
     "name": "stderr",
     "output_type": "stream",
     "text": [
      "100%|██████████| 17712/17712 [00:06<00:00, 2697.92it/s]\n"
     ]
    },
    {
     "name": "stdout",
     "output_type": "stream",
     "text": [
      "Difficult email matches created\n"
     ]
    },
    {
     "name": "stderr",
     "output_type": "stream",
     "text": [
      "100%|██████████| 17712/17712 [00:02<00:00, 6925.16it/s]\n"
     ]
    },
    {
     "name": "stdout",
     "output_type": "stream",
     "text": [
      "Easy name non-matches created\n"
     ]
    },
    {
     "name": "stderr",
     "output_type": "stream",
     "text": [
      "100%|██████████| 17712/17712 [00:00<00:00, 24409.30it/s]\n"
     ]
    },
    {
     "name": "stdout",
     "output_type": "stream",
     "text": [
      "Easy address non-matches created\n"
     ]
    },
    {
     "name": "stderr",
     "output_type": "stream",
     "text": [
      "100%|██████████| 17712/17712 [00:00<00:00, 135692.08it/s]\n"
     ]
    },
    {
     "name": "stdout",
     "output_type": "stream",
     "text": [
      "Easy phone non-matches created\n"
     ]
    },
    {
     "name": "stderr",
     "output_type": "stream",
     "text": [
      "100%|██████████| 17712/17712 [00:00<00:00, 1868965.57it/s]\n"
     ]
    },
    {
     "name": "stdout",
     "output_type": "stream",
     "text": [
      "Easy email non-matches created\n"
     ]
    },
    {
     "name": "stderr",
     "output_type": "stream",
     "text": [
      "100%|██████████| 17712/17712 [00:00<00:00, 23837.79it/s]\n"
     ]
    },
    {
     "name": "stdout",
     "output_type": "stream",
     "text": [
      "Difficult name non-matches created\n"
     ]
    },
    {
     "name": "stderr",
     "output_type": "stream",
     "text": [
      "100%|██████████| 17712/17712 [38:39<00:00,  7.64it/s]\n"
     ]
    },
    {
     "name": "stdout",
     "output_type": "stream",
     "text": [
      "Difficult address non-matches created\n"
     ]
    },
    {
     "name": "stderr",
     "output_type": "stream",
     "text": [
      "100%|██████████| 17712/17712 [00:00<00:00, 96178.24it/s]\n"
     ]
    },
    {
     "name": "stdout",
     "output_type": "stream",
     "text": [
      "Difficult number non-matches created\n"
     ]
    },
    {
     "name": "stderr",
     "output_type": "stream",
     "text": [
      "100%|██████████| 17712/17712 [00:00<00:00, 1812912.11it/s]"
     ]
    },
    {
     "name": "stdout",
     "output_type": "stream",
     "text": [
      "Difficult email non-matches created\n"
     ]
    },
    {
     "name": "stderr",
     "output_type": "stream",
     "text": [
      "\n"
     ]
    }
   ],
   "source": [
    "#Create easy and difficult matches and non-matches\n",
    "easy_candidates_match = match_creator.create_easy_match()\n",
    "difficult_candidates_match = match_creator.create_difficult_match()\n",
    "easy_candidates_non_match = match_creator.create_easy_non_match()\n",
    "difficult_candidates_non_match = match_creator.create_difficult_non_match()"
   ]
  },
  {
   "cell_type": "code",
   "execution_count": 6,
   "metadata": {},
   "outputs": [
    {
     "data": {
      "text/html": [
       "<div>\n",
       "<style scoped>\n",
       "    .dataframe tbody tr th:only-of-type {\n",
       "        vertical-align: middle;\n",
       "    }\n",
       "\n",
       "    .dataframe tbody tr th {\n",
       "        vertical-align: top;\n",
       "    }\n",
       "\n",
       "    .dataframe thead th {\n",
       "        text-align: right;\n",
       "    }\n",
       "</style>\n",
       "<table border=\"1\" class=\"dataframe\">\n",
       "  <thead>\n",
       "    <tr style=\"text-align: right;\">\n",
       "      <th></th>\n",
       "      <th>master_name</th>\n",
       "      <th>master_address</th>\n",
       "      <th>master_number</th>\n",
       "      <th>master_email</th>\n",
       "      <th>candidate_name</th>\n",
       "      <th>candidate_address</th>\n",
       "      <th>candidate_email</th>\n",
       "      <th>candidate_number</th>\n",
       "      <th>label</th>\n",
       "      <th>group_id</th>\n",
       "    </tr>\n",
       "  </thead>\n",
       "  <tbody>\n",
       "    <tr>\n",
       "      <th>0</th>\n",
       "      <td>{'FirstName': 'Teresa', 'SuffixName': '', 'Gen...</td>\n",
       "      <td>{'AddressLine1': '52755 Hinton Course', 'Addre...</td>\n",
       "      <td>{'Number': '(782)608-3632x023', 'Type': ''}</td>\n",
       "      <td>{'Email': 'teresa.hughes@yahoo.com', 'Type': ''}</td>\n",
       "      <td>{'FirstName': 'Teresa', 'LastName': 'Matthews'...</td>\n",
       "      <td>{'StateProvince': 'IL', 'City': 'Aurora', 'Cou...</td>\n",
       "      <td>{'Email': 'teresa.matthews@yahoo.com', 'Type':...</td>\n",
       "      <td>{'Number': '621-362-8964', 'Type': ''}</td>\n",
       "      <td>1</td>\n",
       "      <td>c409fd27-645d-48b5-aad6-7fa693e57457</td>\n",
       "    </tr>\n",
       "    <tr>\n",
       "      <th>1</th>\n",
       "      <td>{'FirstName': 'Amanda', 'SuffixName': '', 'Gen...</td>\n",
       "      <td>{'AddressLine1': '4809 Colin Plaza Apt. 412', ...</td>\n",
       "      <td>{'Number': '563-485-7861x34379', 'Type': ''}</td>\n",
       "      <td>{'Email': 'amanda.davis@gmail.com', 'Type': ''}</td>\n",
       "      <td>{'FirstName': 'Amanda', 'LastName': 'Stewart',...</td>\n",
       "      <td>{'StateProvince': 'TX', 'City': 'San Antonio',...</td>\n",
       "      <td>{'Email': 'amanda.stewart@yahoo.com', 'Type': ''}</td>\n",
       "      <td>{'Number': '563-485-8851x37079', 'Type': ''}</td>\n",
       "      <td>1</td>\n",
       "      <td>669842ab-7508-4d09-8e5f-56d91e1ed969</td>\n",
       "    </tr>\n",
       "    <tr>\n",
       "      <th>2</th>\n",
       "      <td>{'FirstName': 'Kimberly', 'SuffixName': '', 'G...</td>\n",
       "      <td>{'AddressLine1': '303 Butler Vista', 'AddressL...</td>\n",
       "      <td>{'Number': '001-204-563-8861x726', 'Type': ''}</td>\n",
       "      <td>{'Email': 'kimberly.anderson@gmail.com', 'Type...</td>\n",
       "      <td>{'FirstName': 'Julie', 'LastName': 'Anderson',...</td>\n",
       "      <td>{'StateProvince': 'FL', 'City': 'Orlando', 'Co...</td>\n",
       "      <td>{'Email': 'julie.anderson@gmail.com', 'Type': ''}</td>\n",
       "      <td>{'Number': '0000204-563-88619746', 'Type': ''}</td>\n",
       "      <td>1</td>\n",
       "      <td>c05ab3be-a04b-4903-a6e5-88b2084a0782</td>\n",
       "    </tr>\n",
       "    <tr>\n",
       "      <th>3</th>\n",
       "      <td>{'FirstName': 'Mary', 'SuffixName': '', 'Gende...</td>\n",
       "      <td>{'AddressLine1': '478 Aaron Valley', 'AddressL...</td>\n",
       "      <td>{'Number': '456.287.0469', 'Type': ''}</td>\n",
       "      <td>{'Email': 'mary.blair@yahoo.com', 'Type': ''}</td>\n",
       "      <td>{'FirstName': 'Valerie', 'LastName': 'Blair', ...</td>\n",
       "      <td>{'StateProvince': 'NY', 'City': 'Syracuse', 'C...</td>\n",
       "      <td>{'Email': 'valerie.blair@icloud.com', 'Type': ''}</td>\n",
       "      <td>{'Number': '6599392340', 'Type': ''}</td>\n",
       "      <td>1</td>\n",
       "      <td>2b3ce813-9a05-4888-a1ea-d7b04e36e705</td>\n",
       "    </tr>\n",
       "    <tr>\n",
       "      <th>4</th>\n",
       "      <td>{'FirstName': 'Kristina', 'SuffixName': '', 'G...</td>\n",
       "      <td>{'AddressLine1': '4092 Steven Villages', 'Addr...</td>\n",
       "      <td>{'Number': '+1-939-589-6803x014', 'Type': ''}</td>\n",
       "      <td>{'Email': 'kristina.baker@yahoo.com', 'Type': ''}</td>\n",
       "      <td>{'FirstName': 'Ashley', 'LastName': 'Baker', '...</td>\n",
       "      <td>{'StateProvince': 'NY', 'City': 'New York City...</td>\n",
       "      <td>{'Email': 'ashley.baker@icloud.com', 'Type': ''}</td>\n",
       "      <td>{'Number': '+14939-51956803x814', 'Type': ''}</td>\n",
       "      <td>1</td>\n",
       "      <td>777eefa9-294b-418c-aa7a-585d4869510a</td>\n",
       "    </tr>\n",
       "  </tbody>\n",
       "</table>\n",
       "</div>"
      ],
      "text/plain": [
       "                                         master_name  \\\n",
       "0  {'FirstName': 'Teresa', 'SuffixName': '', 'Gen...   \n",
       "1  {'FirstName': 'Amanda', 'SuffixName': '', 'Gen...   \n",
       "2  {'FirstName': 'Kimberly', 'SuffixName': '', 'G...   \n",
       "3  {'FirstName': 'Mary', 'SuffixName': '', 'Gende...   \n",
       "4  {'FirstName': 'Kristina', 'SuffixName': '', 'G...   \n",
       "\n",
       "                                      master_address  \\\n",
       "0  {'AddressLine1': '52755 Hinton Course', 'Addre...   \n",
       "1  {'AddressLine1': '4809 Colin Plaza Apt. 412', ...   \n",
       "2  {'AddressLine1': '303 Butler Vista', 'AddressL...   \n",
       "3  {'AddressLine1': '478 Aaron Valley', 'AddressL...   \n",
       "4  {'AddressLine1': '4092 Steven Villages', 'Addr...   \n",
       "\n",
       "                                    master_number  \\\n",
       "0     {'Number': '(782)608-3632x023', 'Type': ''}   \n",
       "1    {'Number': '563-485-7861x34379', 'Type': ''}   \n",
       "2  {'Number': '001-204-563-8861x726', 'Type': ''}   \n",
       "3          {'Number': '456.287.0469', 'Type': ''}   \n",
       "4   {'Number': '+1-939-589-6803x014', 'Type': ''}   \n",
       "\n",
       "                                        master_email  \\\n",
       "0   {'Email': 'teresa.hughes@yahoo.com', 'Type': ''}   \n",
       "1    {'Email': 'amanda.davis@gmail.com', 'Type': ''}   \n",
       "2  {'Email': 'kimberly.anderson@gmail.com', 'Type...   \n",
       "3      {'Email': 'mary.blair@yahoo.com', 'Type': ''}   \n",
       "4  {'Email': 'kristina.baker@yahoo.com', 'Type': ''}   \n",
       "\n",
       "                                      candidate_name  \\\n",
       "0  {'FirstName': 'Teresa', 'LastName': 'Matthews'...   \n",
       "1  {'FirstName': 'Amanda', 'LastName': 'Stewart',...   \n",
       "2  {'FirstName': 'Julie', 'LastName': 'Anderson',...   \n",
       "3  {'FirstName': 'Valerie', 'LastName': 'Blair', ...   \n",
       "4  {'FirstName': 'Ashley', 'LastName': 'Baker', '...   \n",
       "\n",
       "                                   candidate_address  \\\n",
       "0  {'StateProvince': 'IL', 'City': 'Aurora', 'Cou...   \n",
       "1  {'StateProvince': 'TX', 'City': 'San Antonio',...   \n",
       "2  {'StateProvince': 'FL', 'City': 'Orlando', 'Co...   \n",
       "3  {'StateProvince': 'NY', 'City': 'Syracuse', 'C...   \n",
       "4  {'StateProvince': 'NY', 'City': 'New York City...   \n",
       "\n",
       "                                     candidate_email  \\\n",
       "0  {'Email': 'teresa.matthews@yahoo.com', 'Type':...   \n",
       "1  {'Email': 'amanda.stewart@yahoo.com', 'Type': ''}   \n",
       "2  {'Email': 'julie.anderson@gmail.com', 'Type': ''}   \n",
       "3  {'Email': 'valerie.blair@icloud.com', 'Type': ''}   \n",
       "4   {'Email': 'ashley.baker@icloud.com', 'Type': ''}   \n",
       "\n",
       "                                 candidate_number label  \\\n",
       "0          {'Number': '621-362-8964', 'Type': ''}     1   \n",
       "1    {'Number': '563-485-8851x37079', 'Type': ''}     1   \n",
       "2  {'Number': '0000204-563-88619746', 'Type': ''}     1   \n",
       "3            {'Number': '6599392340', 'Type': ''}     1   \n",
       "4   {'Number': '+14939-51956803x814', 'Type': ''}     1   \n",
       "\n",
       "                               group_id  \n",
       "0  c409fd27-645d-48b5-aad6-7fa693e57457  \n",
       "1  669842ab-7508-4d09-8e5f-56d91e1ed969  \n",
       "2  c05ab3be-a04b-4903-a6e5-88b2084a0782  \n",
       "3  2b3ce813-9a05-4888-a1ea-d7b04e36e705  \n",
       "4  777eefa9-294b-418c-aa7a-585d4869510a  "
      ]
     },
     "execution_count": 6,
     "metadata": {},
     "output_type": "execute_result"
    }
   ],
   "source": [
    "#Create pandas df for master and candidate\n",
    "easy_match_df = helper.lists_to_dataframe(master_profiles, easy_candidates_match)\n",
    "difficult_match_df = helper.lists_to_dataframe(master_profiles, difficult_candidates_match)\n",
    "easy_non_match_df = helper.lists_to_dataframe(master_profiles, easy_candidates_non_match)\n",
    "difficult_non_match_df = helper.lists_to_dataframe(master_profiles, difficult_candidates_non_match)\n",
    "\n",
    "easy_match_df['label'] = '0'\n",
    "difficult_match_df['label'] = '0'\n",
    "easy_non_match_df['label'] = '1'\n",
    "difficult_non_match_df['label'] = '1'\n",
    "\n",
    "easy_match_df['group_id'] = easy_match_df.apply(lambda _: helper.generate_unique_id(), axis=1)\n",
    "difficult_match_df['group_id'] = difficult_match_df.apply(lambda _: helper.generate_unique_id(), axis=1)\n",
    "easy_non_match_df['group_id'] = easy_non_match_df.apply(lambda _: helper.generate_unique_id(), axis=1)\n",
    "difficult_non_match_df['group_id'] = difficult_non_match_df.apply(lambda _: helper.generate_unique_id(), axis=1)\n",
    "\n",
    "difficult_non_match_df.head()"
   ]
  },
  {
   "cell_type": "code",
   "execution_count": 7,
   "metadata": {},
   "outputs": [
    {
     "data": {
      "text/html": [
       "<div>\n",
       "<style scoped>\n",
       "    .dataframe tbody tr th:only-of-type {\n",
       "        vertical-align: middle;\n",
       "    }\n",
       "\n",
       "    .dataframe tbody tr th {\n",
       "        vertical-align: top;\n",
       "    }\n",
       "\n",
       "    .dataframe thead th {\n",
       "        text-align: right;\n",
       "    }\n",
       "</style>\n",
       "<table border=\"1\" class=\"dataframe\">\n",
       "  <thead>\n",
       "    <tr style=\"text-align: right;\">\n",
       "      <th></th>\n",
       "      <th>master_name</th>\n",
       "      <th>master_address</th>\n",
       "      <th>master_number</th>\n",
       "      <th>master_email</th>\n",
       "      <th>candidate_name</th>\n",
       "      <th>candidate_address</th>\n",
       "      <th>candidate_email</th>\n",
       "      <th>candidate_number</th>\n",
       "      <th>label</th>\n",
       "      <th>group_id</th>\n",
       "    </tr>\n",
       "  </thead>\n",
       "  <tbody>\n",
       "    <tr>\n",
       "      <th>0</th>\n",
       "      <td>{'FirstName': 'Teresa', 'SuffixName': '', 'Gen...</td>\n",
       "      <td>{'AddressLine1': '52755 Hinton Course', 'Addre...</td>\n",
       "      <td>{'Number': '(782)608-3632x023', 'Type': ''}</td>\n",
       "      <td>{'Email': 'teresa.hughes@yahoo.com', 'Type': ''}</td>\n",
       "      <td>{'FirstName': 'Teresa', 'LastName': 'Hughes', ...</td>\n",
       "      <td>{'StateProvince': 'IL', 'Country': '', 'Addres...</td>\n",
       "      <td>{'Email': '', 'Type': ''}</td>\n",
       "      <td>{'Number': '(782)608-3632x023', 'Type': ''}</td>\n",
       "      <td>0</td>\n",
       "      <td>e879c944-5b01-498e-b065-b9d73dbe5aab</td>\n",
       "    </tr>\n",
       "    <tr>\n",
       "      <th>1</th>\n",
       "      <td>{'FirstName': 'Amanda', 'SuffixName': '', 'Gen...</td>\n",
       "      <td>{'AddressLine1': '4809 Colin Plaza Apt. 412', ...</td>\n",
       "      <td>{'Number': '563-485-7861x34379', 'Type': ''}</td>\n",
       "      <td>{'Email': 'amanda.davis@gmail.com', 'Type': ''}</td>\n",
       "      <td>{'FirstName': 'Amanda', 'LastName': 'Davis', '...</td>\n",
       "      <td>{'StateProvince': 'TX', 'Country': 'USA', 'Add...</td>\n",
       "      <td>{'Email': 'amanda.davis@gmail.com', 'Type': ''}</td>\n",
       "      <td>{'Number': '563-485-7861x34379', 'Type': ''}</td>\n",
       "      <td>0</td>\n",
       "      <td>8bafe723-7d62-4a9f-9de7-ebe8b9099222</td>\n",
       "    </tr>\n",
       "    <tr>\n",
       "      <th>2</th>\n",
       "      <td>{'FirstName': 'Kimberly', 'SuffixName': '', 'G...</td>\n",
       "      <td>{'AddressLine1': '303 Butler Vista', 'AddressL...</td>\n",
       "      <td>{'Number': '001-204-563-8861x726', 'Type': ''}</td>\n",
       "      <td>{'Email': 'kimberly.anderson@gmail.com', 'Type...</td>\n",
       "      <td>{'FirstName': 'Kimberly', 'LastName': 'Anderso...</td>\n",
       "      <td>{'StateProvince': 'FL', 'Country': 'United Sta...</td>\n",
       "      <td>{'Email': 'kimberly.anderson@gmail.com', 'Type...</td>\n",
       "      <td>{'Number': '001-204-563-8861x726', 'Type': ''}</td>\n",
       "      <td>0</td>\n",
       "      <td>ada9466c-8abe-4c0f-b273-01b50c8d3cf5</td>\n",
       "    </tr>\n",
       "    <tr>\n",
       "      <th>3</th>\n",
       "      <td>{'FirstName': 'Mary', 'SuffixName': '', 'Gende...</td>\n",
       "      <td>{'AddressLine1': '478 Aaron Valley', 'AddressL...</td>\n",
       "      <td>{'Number': '456.287.0469', 'Type': ''}</td>\n",
       "      <td>{'Email': 'mary.blair@yahoo.com', 'Type': ''}</td>\n",
       "      <td>{'FirstName': 'Mary', 'LastName': 'Blair', 'Ge...</td>\n",
       "      <td>{'StateProvince': 'NY', 'Country': 'USA', 'Add...</td>\n",
       "      <td>{'Email': '', 'Type': ''}</td>\n",
       "      <td>{'Number': '456.287.0469', 'Type': ''}</td>\n",
       "      <td>0</td>\n",
       "      <td>bc2da630-76ac-4430-b546-953f5730dd21</td>\n",
       "    </tr>\n",
       "    <tr>\n",
       "      <th>4</th>\n",
       "      <td>{'FirstName': 'Kristina', 'SuffixName': '', 'G...</td>\n",
       "      <td>{'AddressLine1': '4092 Steven Villages', 'Addr...</td>\n",
       "      <td>{'Number': '+1-939-589-6803x014', 'Type': ''}</td>\n",
       "      <td>{'Email': 'kristina.baker@yahoo.com', 'Type': ''}</td>\n",
       "      <td>{'FirstName': 'Kristina', 'LastName': 'Baker',...</td>\n",
       "      <td>{'StateProvince': 'NY', 'Country': 'United Sta...</td>\n",
       "      <td>{'Email': '', 'Type': ''}</td>\n",
       "      <td>{'Number': '', 'Type': ''}</td>\n",
       "      <td>0</td>\n",
       "      <td>215c1291-49ab-40c8-8834-891369075597</td>\n",
       "    </tr>\n",
       "  </tbody>\n",
       "</table>\n",
       "</div>"
      ],
      "text/plain": [
       "                                         master_name  \\\n",
       "0  {'FirstName': 'Teresa', 'SuffixName': '', 'Gen...   \n",
       "1  {'FirstName': 'Amanda', 'SuffixName': '', 'Gen...   \n",
       "2  {'FirstName': 'Kimberly', 'SuffixName': '', 'G...   \n",
       "3  {'FirstName': 'Mary', 'SuffixName': '', 'Gende...   \n",
       "4  {'FirstName': 'Kristina', 'SuffixName': '', 'G...   \n",
       "\n",
       "                                      master_address  \\\n",
       "0  {'AddressLine1': '52755 Hinton Course', 'Addre...   \n",
       "1  {'AddressLine1': '4809 Colin Plaza Apt. 412', ...   \n",
       "2  {'AddressLine1': '303 Butler Vista', 'AddressL...   \n",
       "3  {'AddressLine1': '478 Aaron Valley', 'AddressL...   \n",
       "4  {'AddressLine1': '4092 Steven Villages', 'Addr...   \n",
       "\n",
       "                                    master_number  \\\n",
       "0     {'Number': '(782)608-3632x023', 'Type': ''}   \n",
       "1    {'Number': '563-485-7861x34379', 'Type': ''}   \n",
       "2  {'Number': '001-204-563-8861x726', 'Type': ''}   \n",
       "3          {'Number': '456.287.0469', 'Type': ''}   \n",
       "4   {'Number': '+1-939-589-6803x014', 'Type': ''}   \n",
       "\n",
       "                                        master_email  \\\n",
       "0   {'Email': 'teresa.hughes@yahoo.com', 'Type': ''}   \n",
       "1    {'Email': 'amanda.davis@gmail.com', 'Type': ''}   \n",
       "2  {'Email': 'kimberly.anderson@gmail.com', 'Type...   \n",
       "3      {'Email': 'mary.blair@yahoo.com', 'Type': ''}   \n",
       "4  {'Email': 'kristina.baker@yahoo.com', 'Type': ''}   \n",
       "\n",
       "                                      candidate_name  \\\n",
       "0  {'FirstName': 'Teresa', 'LastName': 'Hughes', ...   \n",
       "1  {'FirstName': 'Amanda', 'LastName': 'Davis', '...   \n",
       "2  {'FirstName': 'Kimberly', 'LastName': 'Anderso...   \n",
       "3  {'FirstName': 'Mary', 'LastName': 'Blair', 'Ge...   \n",
       "4  {'FirstName': 'Kristina', 'LastName': 'Baker',...   \n",
       "\n",
       "                                   candidate_address  \\\n",
       "0  {'StateProvince': 'IL', 'Country': '', 'Addres...   \n",
       "1  {'StateProvince': 'TX', 'Country': 'USA', 'Add...   \n",
       "2  {'StateProvince': 'FL', 'Country': 'United Sta...   \n",
       "3  {'StateProvince': 'NY', 'Country': 'USA', 'Add...   \n",
       "4  {'StateProvince': 'NY', 'Country': 'United Sta...   \n",
       "\n",
       "                                     candidate_email  \\\n",
       "0                          {'Email': '', 'Type': ''}   \n",
       "1    {'Email': 'amanda.davis@gmail.com', 'Type': ''}   \n",
       "2  {'Email': 'kimberly.anderson@gmail.com', 'Type...   \n",
       "3                          {'Email': '', 'Type': ''}   \n",
       "4                          {'Email': '', 'Type': ''}   \n",
       "\n",
       "                                 candidate_number label  \\\n",
       "0     {'Number': '(782)608-3632x023', 'Type': ''}     0   \n",
       "1    {'Number': '563-485-7861x34379', 'Type': ''}     0   \n",
       "2  {'Number': '001-204-563-8861x726', 'Type': ''}     0   \n",
       "3          {'Number': '456.287.0469', 'Type': ''}     0   \n",
       "4                      {'Number': '', 'Type': ''}     0   \n",
       "\n",
       "                               group_id  \n",
       "0  e879c944-5b01-498e-b065-b9d73dbe5aab  \n",
       "1  8bafe723-7d62-4a9f-9de7-ebe8b9099222  \n",
       "2  ada9466c-8abe-4c0f-b273-01b50c8d3cf5  \n",
       "3  bc2da630-76ac-4430-b546-953f5730dd21  \n",
       "4  215c1291-49ab-40c8-8834-891369075597  "
      ]
     },
     "execution_count": 7,
     "metadata": {},
     "output_type": "execute_result"
    }
   ],
   "source": [
    "#Concat all the dfs\n",
    "final_df = pd.concat([easy_match_df, difficult_match_df, easy_non_match_df, difficult_non_match_df])\n",
    "final_df.head()"
   ]
  },
  {
   "cell_type": "code",
   "execution_count": 8,
   "metadata": {},
   "outputs": [
    {
     "data": {
      "text/html": [
       "<div>\n",
       "<style scoped>\n",
       "    .dataframe tbody tr th:only-of-type {\n",
       "        vertical-align: middle;\n",
       "    }\n",
       "\n",
       "    .dataframe tbody tr th {\n",
       "        vertical-align: top;\n",
       "    }\n",
       "\n",
       "    .dataframe thead th {\n",
       "        text-align: right;\n",
       "    }\n",
       "</style>\n",
       "<table border=\"1\" class=\"dataframe\">\n",
       "  <thead>\n",
       "    <tr style=\"text-align: right;\">\n",
       "      <th></th>\n",
       "      <th>master_name</th>\n",
       "      <th>master_address</th>\n",
       "      <th>master_number</th>\n",
       "      <th>master_email</th>\n",
       "      <th>candidate_name</th>\n",
       "      <th>candidate_address</th>\n",
       "      <th>candidate_email</th>\n",
       "      <th>candidate_number</th>\n",
       "      <th>label</th>\n",
       "      <th>group_id</th>\n",
       "      <th>master_entity</th>\n",
       "      <th>candidate_entity</th>\n",
       "    </tr>\n",
       "  </thead>\n",
       "  <tbody>\n",
       "    <tr>\n",
       "      <th>0</th>\n",
       "      <td>{'FirstName': 'Teresa', 'SuffixName': '', 'Gen...</td>\n",
       "      <td>{'AddressLine1': '52755 Hinton Course', 'Addre...</td>\n",
       "      <td>{'Number': '(782)608-3632x023', 'Type': ''}</td>\n",
       "      <td>{'Email': 'teresa.hughes@yahoo.com', 'Type': ''}</td>\n",
       "      <td>{'FirstName': 'Teresa', 'LastName': 'Hughes', ...</td>\n",
       "      <td>{'StateProvince': 'IL', 'Country': '', 'Addres...</td>\n",
       "      <td>{'Email': '', 'Type': ''}</td>\n",
       "      <td>{'Number': '(782)608-3632x023', 'Type': ''}</td>\n",
       "      <td>0</td>\n",
       "      <td>e879c944-5b01-498e-b065-b9d73dbe5aab</td>\n",
       "      <td>Dr. Teresa Y Hughes 52755 Hinton Course Aurora...</td>\n",
       "      <td>Teresa Yezk Hughes 52755 Hinton Course Aurora ...</td>\n",
       "    </tr>\n",
       "    <tr>\n",
       "      <th>1</th>\n",
       "      <td>{'FirstName': 'Amanda', 'SuffixName': '', 'Gen...</td>\n",
       "      <td>{'AddressLine1': '4809 Colin Plaza Apt. 412', ...</td>\n",
       "      <td>{'Number': '563-485-7861x34379', 'Type': ''}</td>\n",
       "      <td>{'Email': 'amanda.davis@gmail.com', 'Type': ''}</td>\n",
       "      <td>{'FirstName': 'Amanda', 'LastName': 'Davis', '...</td>\n",
       "      <td>{'StateProvince': 'TX', 'Country': 'USA', 'Add...</td>\n",
       "      <td>{'Email': 'amanda.davis@gmail.com', 'Type': ''}</td>\n",
       "      <td>{'Number': '563-485-7861x34379', 'Type': ''}</td>\n",
       "      <td>0</td>\n",
       "      <td>8bafe723-7d62-4a9f-9de7-ebe8b9099222</td>\n",
       "      <td>Ms. Amanda C Davis 4809 Colin Plaza Apt. 412 S...</td>\n",
       "      <td>Amanda C Davis 4809 Colin Plaza Apt. 412 San A...</td>\n",
       "    </tr>\n",
       "    <tr>\n",
       "      <th>2</th>\n",
       "      <td>{'FirstName': 'Kimberly', 'SuffixName': '', 'G...</td>\n",
       "      <td>{'AddressLine1': '303 Butler Vista', 'AddressL...</td>\n",
       "      <td>{'Number': '001-204-563-8861x726', 'Type': ''}</td>\n",
       "      <td>{'Email': 'kimberly.anderson@gmail.com', 'Type...</td>\n",
       "      <td>{'FirstName': 'Kimberly', 'LastName': 'Anderso...</td>\n",
       "      <td>{'StateProvince': 'FL', 'Country': 'United Sta...</td>\n",
       "      <td>{'Email': 'kimberly.anderson@gmail.com', 'Type...</td>\n",
       "      <td>{'Number': '001-204-563-8861x726', 'Type': ''}</td>\n",
       "      <td>0</td>\n",
       "      <td>ada9466c-8abe-4c0f-b273-01b50c8d3cf5</td>\n",
       "      <td>Dr. Kimberly V Anderson 303 Butler Vista Orlan...</td>\n",
       "      <td>Miss. Kimberly V Anderson 303 Butler Vista Orl...</td>\n",
       "    </tr>\n",
       "    <tr>\n",
       "      <th>3</th>\n",
       "      <td>{'FirstName': 'Mary', 'SuffixName': '', 'Gende...</td>\n",
       "      <td>{'AddressLine1': '478 Aaron Valley', 'AddressL...</td>\n",
       "      <td>{'Number': '456.287.0469', 'Type': ''}</td>\n",
       "      <td>{'Email': 'mary.blair@yahoo.com', 'Type': ''}</td>\n",
       "      <td>{'FirstName': 'Mary', 'LastName': 'Blair', 'Ge...</td>\n",
       "      <td>{'StateProvince': 'NY', 'Country': 'USA', 'Add...</td>\n",
       "      <td>{'Email': '', 'Type': ''}</td>\n",
       "      <td>{'Number': '456.287.0469', 'Type': ''}</td>\n",
       "      <td>0</td>\n",
       "      <td>bc2da630-76ac-4430-b546-953f5730dd21</td>\n",
       "      <td>Dr. Mary H Blair 478 Aaron Valley Syracuse NY ...</td>\n",
       "      <td>Mary Hxto Blair 478 Aaron Valley Syracuse NY U...</td>\n",
       "    </tr>\n",
       "    <tr>\n",
       "      <th>4</th>\n",
       "      <td>{'FirstName': 'Kristina', 'SuffixName': '', 'G...</td>\n",
       "      <td>{'AddressLine1': '4092 Steven Villages', 'Addr...</td>\n",
       "      <td>{'Number': '+1-939-589-6803x014', 'Type': ''}</td>\n",
       "      <td>{'Email': 'kristina.baker@yahoo.com', 'Type': ''}</td>\n",
       "      <td>{'FirstName': 'Kristina', 'LastName': 'Baker',...</td>\n",
       "      <td>{'StateProvince': 'NY', 'Country': 'United Sta...</td>\n",
       "      <td>{'Email': '', 'Type': ''}</td>\n",
       "      <td>{'Number': '', 'Type': ''}</td>\n",
       "      <td>0</td>\n",
       "      <td>215c1291-49ab-40c8-8834-891369075597</td>\n",
       "      <td>Kristina Y Baker 4092 Steven Villages New York...</td>\n",
       "      <td>Mrs. Kristina Y Baker 4092 Steven Villages  NY...</td>\n",
       "    </tr>\n",
       "  </tbody>\n",
       "</table>\n",
       "</div>"
      ],
      "text/plain": [
       "                                         master_name  \\\n",
       "0  {'FirstName': 'Teresa', 'SuffixName': '', 'Gen...   \n",
       "1  {'FirstName': 'Amanda', 'SuffixName': '', 'Gen...   \n",
       "2  {'FirstName': 'Kimberly', 'SuffixName': '', 'G...   \n",
       "3  {'FirstName': 'Mary', 'SuffixName': '', 'Gende...   \n",
       "4  {'FirstName': 'Kristina', 'SuffixName': '', 'G...   \n",
       "\n",
       "                                      master_address  \\\n",
       "0  {'AddressLine1': '52755 Hinton Course', 'Addre...   \n",
       "1  {'AddressLine1': '4809 Colin Plaza Apt. 412', ...   \n",
       "2  {'AddressLine1': '303 Butler Vista', 'AddressL...   \n",
       "3  {'AddressLine1': '478 Aaron Valley', 'AddressL...   \n",
       "4  {'AddressLine1': '4092 Steven Villages', 'Addr...   \n",
       "\n",
       "                                    master_number  \\\n",
       "0     {'Number': '(782)608-3632x023', 'Type': ''}   \n",
       "1    {'Number': '563-485-7861x34379', 'Type': ''}   \n",
       "2  {'Number': '001-204-563-8861x726', 'Type': ''}   \n",
       "3          {'Number': '456.287.0469', 'Type': ''}   \n",
       "4   {'Number': '+1-939-589-6803x014', 'Type': ''}   \n",
       "\n",
       "                                        master_email  \\\n",
       "0   {'Email': 'teresa.hughes@yahoo.com', 'Type': ''}   \n",
       "1    {'Email': 'amanda.davis@gmail.com', 'Type': ''}   \n",
       "2  {'Email': 'kimberly.anderson@gmail.com', 'Type...   \n",
       "3      {'Email': 'mary.blair@yahoo.com', 'Type': ''}   \n",
       "4  {'Email': 'kristina.baker@yahoo.com', 'Type': ''}   \n",
       "\n",
       "                                      candidate_name  \\\n",
       "0  {'FirstName': 'Teresa', 'LastName': 'Hughes', ...   \n",
       "1  {'FirstName': 'Amanda', 'LastName': 'Davis', '...   \n",
       "2  {'FirstName': 'Kimberly', 'LastName': 'Anderso...   \n",
       "3  {'FirstName': 'Mary', 'LastName': 'Blair', 'Ge...   \n",
       "4  {'FirstName': 'Kristina', 'LastName': 'Baker',...   \n",
       "\n",
       "                                   candidate_address  \\\n",
       "0  {'StateProvince': 'IL', 'Country': '', 'Addres...   \n",
       "1  {'StateProvince': 'TX', 'Country': 'USA', 'Add...   \n",
       "2  {'StateProvince': 'FL', 'Country': 'United Sta...   \n",
       "3  {'StateProvince': 'NY', 'Country': 'USA', 'Add...   \n",
       "4  {'StateProvince': 'NY', 'Country': 'United Sta...   \n",
       "\n",
       "                                     candidate_email  \\\n",
       "0                          {'Email': '', 'Type': ''}   \n",
       "1    {'Email': 'amanda.davis@gmail.com', 'Type': ''}   \n",
       "2  {'Email': 'kimberly.anderson@gmail.com', 'Type...   \n",
       "3                          {'Email': '', 'Type': ''}   \n",
       "4                          {'Email': '', 'Type': ''}   \n",
       "\n",
       "                                 candidate_number label  \\\n",
       "0     {'Number': '(782)608-3632x023', 'Type': ''}     0   \n",
       "1    {'Number': '563-485-7861x34379', 'Type': ''}     0   \n",
       "2  {'Number': '001-204-563-8861x726', 'Type': ''}     0   \n",
       "3          {'Number': '456.287.0469', 'Type': ''}     0   \n",
       "4                      {'Number': '', 'Type': ''}     0   \n",
       "\n",
       "                               group_id  \\\n",
       "0  e879c944-5b01-498e-b065-b9d73dbe5aab   \n",
       "1  8bafe723-7d62-4a9f-9de7-ebe8b9099222   \n",
       "2  ada9466c-8abe-4c0f-b273-01b50c8d3cf5   \n",
       "3  bc2da630-76ac-4430-b546-953f5730dd21   \n",
       "4  215c1291-49ab-40c8-8834-891369075597   \n",
       "\n",
       "                                       master_entity  \\\n",
       "0  Dr. Teresa Y Hughes 52755 Hinton Course Aurora...   \n",
       "1  Ms. Amanda C Davis 4809 Colin Plaza Apt. 412 S...   \n",
       "2  Dr. Kimberly V Anderson 303 Butler Vista Orlan...   \n",
       "3  Dr. Mary H Blair 478 Aaron Valley Syracuse NY ...   \n",
       "4  Kristina Y Baker 4092 Steven Villages New York...   \n",
       "\n",
       "                                    candidate_entity  \n",
       "0  Teresa Yezk Hughes 52755 Hinton Course Aurora ...  \n",
       "1  Amanda C Davis 4809 Colin Plaza Apt. 412 San A...  \n",
       "2  Miss. Kimberly V Anderson 303 Butler Vista Orl...  \n",
       "3  Mary Hxto Blair 478 Aaron Valley Syracuse NY U...  \n",
       "4  Mrs. Kristina Y Baker 4092 Steven Villages  NY...  "
      ]
     },
     "execution_count": 8,
     "metadata": {},
     "output_type": "execute_result"
    }
   ],
   "source": [
    "#Concatenate all the attributes as a single string\n",
    "final_df['master_entity'] = (\n",
    "    (final_df['master_name'].apply(lambda x: x['Prefix'] + \" \" + x['FirstName'] + \" \" + x['MiddleName'] + \" \" + x['LastName'] + \" \" \n",
    "                                   + x['SuffixName'])) + \", \"\n",
    "    + (final_df['master_address'].apply(lambda x: x['AddressLine1'] + \" \" + x['City'] + \" \" + x['StateProvince'] + \" \" + x['Country'])) + \", \"\n",
    "    + (final_df['master_email'].apply(lambda x: x['Email']))+ \", \" + (final_df['master_number'].apply(lambda x: x['Number']))\n",
    ")\n",
    "final_df['candidate_entity'] = (\n",
    "    (final_df['candidate_name'].apply(lambda x: x['Prefix'] + \" \" + x['FirstName'] + \" \" + x['MiddleName'] + \" \" + x['LastName'] + \" \" \n",
    "                                   + x['SuffixName'])) + \", \"\n",
    "    + (final_df['candidate_address'].apply(lambda x: x['AddressLine1'] + \" \" + x['City'] + \" \" + x['StateProvince'] + \" \" + x['Country'])) + \", \"\n",
    "    + (final_df['candidate_email'].apply(lambda x: x['Email']))+ \", \" + (final_df['candidate_number'].apply(lambda x: x['Number']))\n",
    ")\n",
    "final_df['master_entity'] = final_df['master_entity'].apply(lambda x: x.strip())\n",
    "final_df['candidate_entity'] = final_df['candidate_entity'].apply(lambda x: x.strip())\n",
    "\n",
    "final_df['master_entity'] = final_df['master_entity'].apply(lambda x: helper.clean_commas(x))\n",
    "final_df['candidate_entity'] = final_df['candidate_entity'].apply(lambda x: helper.clean_commas(x))\n",
    "final_df.head()"
   ]
  },
  {
   "cell_type": "code",
   "execution_count": 9,
   "metadata": {},
   "outputs": [
    {
     "data": {
      "text/html": [
       "<div>\n",
       "<style scoped>\n",
       "    .dataframe tbody tr th:only-of-type {\n",
       "        vertical-align: middle;\n",
       "    }\n",
       "\n",
       "    .dataframe tbody tr th {\n",
       "        vertical-align: top;\n",
       "    }\n",
       "\n",
       "    .dataframe thead th {\n",
       "        text-align: right;\n",
       "    }\n",
       "</style>\n",
       "<table border=\"1\" class=\"dataframe\">\n",
       "  <thead>\n",
       "    <tr style=\"text-align: right;\">\n",
       "      <th></th>\n",
       "      <th>entity</th>\n",
       "    </tr>\n",
       "  </thead>\n",
       "  <tbody>\n",
       "    <tr>\n",
       "      <th>0</th>\n",
       "      <td>Dr. Teresa Y Hughes 52755 Hinton Course Aurora...</td>\n",
       "    </tr>\n",
       "    <tr>\n",
       "      <th>1</th>\n",
       "      <td>Ms. Amanda C Davis 4809 Colin Plaza Apt. 412 S...</td>\n",
       "    </tr>\n",
       "    <tr>\n",
       "      <th>2</th>\n",
       "      <td>Dr. Kimberly V Anderson 303 Butler Vista Orlan...</td>\n",
       "    </tr>\n",
       "    <tr>\n",
       "      <th>3</th>\n",
       "      <td>Dr. Mary H Blair 478 Aaron Valley Syracuse NY ...</td>\n",
       "    </tr>\n",
       "    <tr>\n",
       "      <th>4</th>\n",
       "      <td>Kristina Y Baker 4092 Steven Villages New York...</td>\n",
       "    </tr>\n",
       "  </tbody>\n",
       "</table>\n",
       "</div>"
      ],
      "text/plain": [
       "                                              entity\n",
       "0  Dr. Teresa Y Hughes 52755 Hinton Course Aurora...\n",
       "1  Ms. Amanda C Davis 4809 Colin Plaza Apt. 412 S...\n",
       "2  Dr. Kimberly V Anderson 303 Butler Vista Orlan...\n",
       "3  Dr. Mary H Blair 478 Aaron Valley Syracuse NY ...\n",
       "4  Kristina Y Baker 4092 Steven Villages New York..."
      ]
     },
     "execution_count": 9,
     "metadata": {},
     "output_type": "execute_result"
    }
   ],
   "source": [
    "#Take out the master entities and candidate entities to combine in same df\n",
    "master_entities = final_df[['master_entity']]\n",
    "candidate_entities = final_df[['candidate_entity']]\n",
    "\n",
    "master_entities = master_entities.rename(columns = {'master_entity':'entity'})\n",
    "candidate_entities = candidate_entities.rename(columns = {'candidate_entity':'entity'})\n",
    "all_entities = pd.concat([master_entities, candidate_entities])\n",
    "all_entities.head()"
   ]
  },
  {
   "cell_type": "code",
   "execution_count": 10,
   "metadata": {},
   "outputs": [],
   "source": [
    "#Save the entity data\n",
    "all_entities.to_csv('datasets/entity_pairs.csv', index = False)"
   ]
  },
  {
   "cell_type": "code",
   "execution_count": null,
   "metadata": {},
   "outputs": [],
   "source": []
  }
 ],
 "metadata": {
  "kernelspec": {
   "display_name": ".venv",
   "language": "python",
   "name": "python3"
  },
  "language_info": {
   "codemirror_mode": {
    "name": "ipython",
    "version": 3
   },
   "file_extension": ".py",
   "mimetype": "text/x-python",
   "name": "python",
   "nbconvert_exporter": "python",
   "pygments_lexer": "ipython3",
   "version": "3.11.3"
  }
 },
 "nbformat": 4,
 "nbformat_minor": 2
}
