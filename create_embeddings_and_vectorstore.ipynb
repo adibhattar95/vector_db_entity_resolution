{
 "cells": [
  {
   "cell_type": "code",
   "execution_count": 3,
   "metadata": {},
   "outputs": [],
   "source": [
    "#import libraries\n",
    "from functools import reduce\n",
    "import pandas as pd\n",
    "import numpy as np\n",
    "import warnings\n",
    "import random\n",
    "import re\n",
    "import string\n",
    "from tqdm import tqdm\n",
    "from qdrant_client import models, QdrantClient\n",
    "from sentence_transformers import SentenceTransformer\n",
    "import time\n",
    "warnings.filterwarnings('ignore')\n",
    "pd.set_option('display.max_columns', None)"
   ]
  },
  {
   "cell_type": "code",
   "execution_count": 2,
   "metadata": {},
   "outputs": [
    {
     "data": {
      "text/html": [
       "<div>\n",
       "<style scoped>\n",
       "    .dataframe tbody tr th:only-of-type {\n",
       "        vertical-align: middle;\n",
       "    }\n",
       "\n",
       "    .dataframe tbody tr th {\n",
       "        vertical-align: top;\n",
       "    }\n",
       "\n",
       "    .dataframe thead th {\n",
       "        text-align: right;\n",
       "    }\n",
       "</style>\n",
       "<table border=\"1\" class=\"dataframe\">\n",
       "  <thead>\n",
       "    <tr style=\"text-align: right;\">\n",
       "      <th></th>\n",
       "      <th>entity</th>\n",
       "    </tr>\n",
       "  </thead>\n",
       "  <tbody>\n",
       "    <tr>\n",
       "      <th>0</th>\n",
       "      <td>Dr. Teresa Y Hughes 52755 Hinton Course Aurora...</td>\n",
       "    </tr>\n",
       "    <tr>\n",
       "      <th>1</th>\n",
       "      <td>Ms. Amanda C Davis 4809 Colin Plaza Apt. 412 S...</td>\n",
       "    </tr>\n",
       "    <tr>\n",
       "      <th>2</th>\n",
       "      <td>Dr. Kimberly V Anderson 303 Butler Vista Orlan...</td>\n",
       "    </tr>\n",
       "    <tr>\n",
       "      <th>3</th>\n",
       "      <td>Dr. Mary H Blair 478 Aaron Valley Syracuse NY ...</td>\n",
       "    </tr>\n",
       "    <tr>\n",
       "      <th>4</th>\n",
       "      <td>Kristina Y Baker 4092 Steven Villages New York...</td>\n",
       "    </tr>\n",
       "  </tbody>\n",
       "</table>\n",
       "</div>"
      ],
      "text/plain": [
       "                                              entity\n",
       "0  Dr. Teresa Y Hughes 52755 Hinton Course Aurora...\n",
       "1  Ms. Amanda C Davis 4809 Colin Plaza Apt. 412 S...\n",
       "2  Dr. Kimberly V Anderson 303 Butler Vista Orlan...\n",
       "3  Dr. Mary H Blair 478 Aaron Valley Syracuse NY ...\n",
       "4  Kristina Y Baker 4092 Steven Villages New York..."
      ]
     },
     "execution_count": 2,
     "metadata": {},
     "output_type": "execute_result"
    }
   ],
   "source": [
    "#Load and view the dataset\n",
    "df = pd.read_csv('datasets/entity_pairs.csv')\n",
    "df.head()"
   ]
  },
  {
   "cell_type": "code",
   "execution_count": 5,
   "metadata": {},
   "outputs": [],
   "source": [
    "#Create a list of all the entities\n",
    "entities = []\n",
    "for i in range(0, df.shape[0]):\n",
    "    entity_dict = {}\n",
    "    entity_dict['attributes'] = df['entity'].values[i]\n",
    "    entity_dict['entity_id'] = df['ID'].values[i]\n",
    "    entities.append(entity_dict)"
   ]
  },
  {
   "cell_type": "code",
   "execution_count": 6,
   "metadata": {},
   "outputs": [
    {
     "name": "stderr",
     "output_type": "stream",
     "text": [
      "141696it [20:58, 112.62it/s]\n"
     ]
    }
   ],
   "source": [
    "#initialize a qdrant vectorDB and sentence transformer to create embeddings\n",
    "encoder = SentenceTransformer('all-MiniLM-L6-v2', trust_remote_code=True)\n",
    "client = QdrantClient(host = 'localhost', port = 6333)\n",
    "client.recreate_collection(\n",
    "    collection_name=\"entities\",\n",
    "    vectors_config=models.VectorParams(\n",
    "        size=encoder.get_sentence_embedding_dimension(),  # Vector size is defined by used model\n",
    "        distance=models.Distance.COSINE,\n",
    "    ),\n",
    ")\n",
    "\n",
    "#Add entities to vectorDB\n",
    "client.upload_points(\n",
    "    collection_name=\"entities\",\n",
    "    points=[\n",
    "        models.PointStruct(\n",
    "            id=idx, vector=encoder.encode(doc[\"attributes\"]).tolist(), payload=doc\n",
    "        )\n",
    "        for idx, doc in tqdm(enumerate(entities))\n",
    "    ],\n",
    ")"
   ]
  },
  {
   "cell_type": "code",
   "execution_count": null,
   "metadata": {},
   "outputs": [],
   "source": [
    "print(random.choice())"
   ]
  }
 ],
 "metadata": {
  "kernelspec": {
   "display_name": ".venv",
   "language": "python",
   "name": "python3"
  },
  "language_info": {
   "codemirror_mode": {
    "name": "ipython",
    "version": 3
   },
   "file_extension": ".py",
   "mimetype": "text/x-python",
   "name": "python",
   "nbconvert_exporter": "python",
   "pygments_lexer": "ipython3",
   "version": "3.11.3"
  }
 },
 "nbformat": 4,
 "nbformat_minor": 2
}
